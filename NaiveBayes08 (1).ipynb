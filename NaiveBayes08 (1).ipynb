{
  "nbformat": 4,
  "nbformat_minor": 0,
  "metadata": {
    "colab": {
      "provenance": []
    },
    "kernelspec": {
      "name": "python3",
      "display_name": "Python 3"
    },
    "language_info": {
      "name": "python"
    }
  },
  "cells": [
    {
      "cell_type": "markdown",
      "source": [
        "1. There are 100 students in a class. Consider these facts:\n",
        "\n",
        "5 boys have books\n",
        "35 boys do not have books\n",
        "20 girls have books\n",
        "40 girls do not have books\n",
        "  Find the probability of a student having book, given a boy using Bayes theorem"
      ],
      "metadata": {
        "id": "i65WTZdj1xFI"
      }
    },
    {
      "cell_type": "code",
      "source": [
        "def prob(expect,total):\n",
        "  return expect/total"
      ],
      "metadata": {
        "id": "81Em5QSp10xj"
      },
      "execution_count": 1,
      "outputs": []
    },
    {
      "cell_type": "code",
      "source": [
        "def bayesTheorem(pBook,pBoy,pBoysBook):\n",
        "  return (pBook*pBoysBook)/pBoy"
      ],
      "metadata": {
        "id": "ae5ZAXwB_nMy"
      },
      "execution_count": 2,
      "outputs": []
    },
    {
      "cell_type": "markdown",
      "source": [
        "**Calculate the probability value**"
      ],
      "metadata": {
        "id": "8MzQHNAM-uF9"
      }
    },
    {
      "cell_type": "code",
      "source": [
        "total=10\n",
        "boys=40\n",
        "girls=60\n",
        "boys_having_book=5\n",
        "girls_having_book=20\n",
        "p_of_book=prob(25,100)\n",
        "p_of_boys_having_books=prob(5,25)\n",
        "pBoy=prob(40,100)\n",
        "\n"
      ],
      "metadata": {
        "colab": {
          "base_uri": "https://localhost:8080/"
        },
        "id": "thOWjOJV_R1f",
        "outputId": "4e03dc53-38be-4407-8291-b16556d659ba"
      },
      "execution_count": 3,
      "outputs": [
        {
          "output_type": "stream",
          "name": "stdout",
          "text": [
            "\n"
          ]
        }
      ]
    },
    {
      "cell_type": "code",
      "source": [
        "print(\"probablity oh boys that having book: \"+str(round(bayesTheorem(p_of_book,pBoy,p_of_boys_having_books),2)))"
      ],
      "metadata": {
        "colab": {
          "base_uri": "https://localhost:8080/"
        },
        "id": "U-bKr5tXBH68",
        "outputId": "25aaa776-f2d9-45c0-a62c-f241a8e9929e"
      },
      "execution_count": 5,
      "outputs": [
        {
          "output_type": "stream",
          "name": "stdout",
          "text": [
            "probablity oh boys that having book: 0.12\n"
          ]
        }
      ]
    }
  ]
}